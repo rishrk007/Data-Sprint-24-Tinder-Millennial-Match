{
  "nbformat": 4,
  "nbformat_minor": 0,
  "metadata": {
    "colab": {
      "name": "Data Sprint 24",
      "provenance": [],
      "authorship_tag": "ABX9TyNs1R9nVO0oxO7o0W/cJHR2",
      "include_colab_link": true
    },
    "kernelspec": {
      "display_name": "Python 3",
      "name": "python3"
    }
  },
  "cells": [
    {
      "cell_type": "markdown",
      "metadata": {
        "id": "view-in-github",
        "colab_type": "text"
      },
      "source": [
        "<a href=\"https://colab.research.google.com/github/rishrk007/Data-Sprint-24-Tinder-Millennial-Match/blob/main/Data_Sprint_24.ipynb\" target=\"_parent\"><img src=\"https://colab.research.google.com/assets/colab-badge.svg\" alt=\"Open In Colab\"/></a>"
      ]
    },
    {
      "cell_type": "code",
      "metadata": {
        "id": "0_YkMFPIgqwg"
      },
      "source": [
        "import pandas as pd\r\n",
        "import numpy as np\r\n",
        "import matplotlib.pyplot as plt\r\n",
        "import seaborn as sns\r\n",
        "import math\r\n",
        "\r\n",
        "from lightgbm import LGBMClassifier\r\n",
        "#from catboost import CatBoostClassifier\r\n",
        "from xgboost import XGBClassifier\r\n",
        "from sklearn.linear_model import LogisticRegression , RidgeClassifier, Huber\r\n",
        "from sklearn.tree import DecisionTreeClassifier\r\n",
        "from sklearn.ensemble import RandomForestClassifier , GradientBoostingClassifier , ExtraTreesClassifier , AdaBoostClassifier\r\n",
        "from sklearn.model_selection import KFold ,StratifiedKFold\r\n",
        "from sklearn.metrics import log_loss, accuracy_score, confusion_matrix"
      ],
      "execution_count": 151,
      "outputs": []
    },
    {
      "cell_type": "code",
      "metadata": {
        "id": "57-4_R38gwQb"
      },
      "source": [
        "train = pd.read_csv(\"https://raw.githubusercontent.com/dphi-official/Datasets/master/Tinder_Millennial_Match/train_set_label.csv\")\r\n",
        "test = pd.read_csv('https://raw.githubusercontent.com/dphi-official/Datasets/master/Tinder_Millennial_Match/test_set_label.csv')"
      ],
      "execution_count": 152,
      "outputs": []
    },
    {
      "cell_type": "code",
      "metadata": {
        "colab": {
          "base_uri": "https://localhost:8080/"
        },
        "id": "_PqsAOK_g5IG",
        "outputId": "858ea4d1-dbf2-4bd2-ab75-5fced3363c52"
      },
      "source": [
        "print(train.shape)"
      ],
      "execution_count": 153,
      "outputs": [
        {
          "output_type": "stream",
          "text": [
            "(1896, 7)\n"
          ],
          "name": "stdout"
        }
      ]
    },
    {
      "cell_type": "code",
      "metadata": {
        "id": "QsF0QBTszXAN"
      },
      "source": [
        "train = train.drop_duplicates()\r\n",
        "train.reset_index(drop=True,inplace=True)"
      ],
      "execution_count": 154,
      "outputs": []
    },
    {
      "cell_type": "code",
      "metadata": {
        "colab": {
          "base_uri": "https://localhost:8080/",
          "height": 195
        },
        "id": "3ra_xH4TgyWB",
        "outputId": "b3904b9f-6564-41d4-900b-cf8338e1838e"
      },
      "source": [
        "train.head()"
      ],
      "execution_count": 155,
      "outputs": [
        {
          "output_type": "execute_result",
          "data": {
            "text/html": [
              "<div>\n",
              "<style scoped>\n",
              "    .dataframe tbody tr th:only-of-type {\n",
              "        vertical-align: middle;\n",
              "    }\n",
              "\n",
              "    .dataframe tbody tr th {\n",
              "        vertical-align: top;\n",
              "    }\n",
              "\n",
              "    .dataframe thead th {\n",
              "        text-align: right;\n",
              "    }\n",
              "</style>\n",
              "<table border=\"1\" class=\"dataframe\">\n",
              "  <thead>\n",
              "    <tr style=\"text-align: right;\">\n",
              "      <th></th>\n",
              "      <th>ID</th>\n",
              "      <th>Segment type</th>\n",
              "      <th>Segment Description</th>\n",
              "      <th>Answer</th>\n",
              "      <th>Count</th>\n",
              "      <th>Percentage</th>\n",
              "      <th>It became a relationship</th>\n",
              "    </tr>\n",
              "  </thead>\n",
              "  <tbody>\n",
              "    <tr>\n",
              "      <th>0</th>\n",
              "      <td>292890.8970</td>\n",
              "      <td>web</td>\n",
              "      <td>Meridian, Idaho</td>\n",
              "      <td>No</td>\n",
              "      <td>0.000000</td>\n",
              "      <td>0.000000</td>\n",
              "      <td>0</td>\n",
              "    </tr>\n",
              "    <tr>\n",
              "      <th>1</th>\n",
              "      <td>292887.9870</td>\n",
              "      <td>web</td>\n",
              "      <td>Meridian, Idaho</td>\n",
              "      <td>No</td>\n",
              "      <td>0.000000</td>\n",
              "      <td>0.000000</td>\n",
              "      <td>0</td>\n",
              "    </tr>\n",
              "    <tr>\n",
              "      <th>2</th>\n",
              "      <td>292894.0656</td>\n",
              "      <td>gender</td>\n",
              "      <td>Meridian, Idaho</td>\n",
              "      <td>No</td>\n",
              "      <td>499.173606</td>\n",
              "      <td>0.225255</td>\n",
              "      <td>0</td>\n",
              "    </tr>\n",
              "    <tr>\n",
              "      <th>3</th>\n",
              "      <td>292887.1180</td>\n",
              "      <td>web</td>\n",
              "      <td>Meridian, Idaho</td>\n",
              "      <td>No</td>\n",
              "      <td>0.000000</td>\n",
              "      <td>0.000000</td>\n",
              "      <td>0</td>\n",
              "    </tr>\n",
              "    <tr>\n",
              "      <th>4</th>\n",
              "      <td>292893.6561</td>\n",
              "      <td>gender</td>\n",
              "      <td>Meridian, Idaho</td>\n",
              "      <td>No</td>\n",
              "      <td>455.925963</td>\n",
              "      <td>0.211360</td>\n",
              "      <td>0</td>\n",
              "    </tr>\n",
              "  </tbody>\n",
              "</table>\n",
              "</div>"
            ],
            "text/plain": [
              "            ID Segment type  ... Percentage It became a relationship\n",
              "0  292890.8970          web  ...   0.000000                        0\n",
              "1  292887.9870          web  ...   0.000000                        0\n",
              "2  292894.0656       gender  ...   0.225255                        0\n",
              "3  292887.1180          web  ...   0.000000                        0\n",
              "4  292893.6561       gender  ...   0.211360                        0\n",
              "\n",
              "[5 rows x 7 columns]"
            ]
          },
          "metadata": {
            "tags": []
          },
          "execution_count": 155
        }
      ]
    },
    {
      "cell_type": "code",
      "metadata": {
        "colab": {
          "base_uri": "https://localhost:8080/"
        },
        "id": "e3evFvqWZcr5",
        "outputId": "9e6da885-d316-497d-80bd-ea3da553eee3"
      },
      "source": [
        "train[\"It became a relationship\"].value_counts()"
      ],
      "execution_count": 156,
      "outputs": [
        {
          "output_type": "execute_result",
          "data": {
            "text/plain": [
              "0    1229\n",
              "1     665\n",
              "Name: It became a relationship, dtype: int64"
            ]
          },
          "metadata": {
            "tags": []
          },
          "execution_count": 156
        }
      ]
    },
    {
      "cell_type": "code",
      "metadata": {
        "colab": {
          "base_uri": "https://localhost:8080/"
        },
        "id": "sbU8CkwS56rH",
        "outputId": "27ae2a55-cdd3-44bb-d474-43232b403c30"
      },
      "source": [
        "train['ID1'] = 0.0\r\n",
        "train['ID2'] = 0.0\r\n",
        "\r\n",
        "j = 0\r\n",
        "for i in train['ID']:\r\n",
        "  train['ID1'][j],train['ID2'][j] = math.modf(i)\r\n",
        "  j = j+1"
      ],
      "execution_count": 157,
      "outputs": [
        {
          "output_type": "stream",
          "text": [
            "/usr/local/lib/python3.6/dist-packages/ipykernel_launcher.py:6: SettingWithCopyWarning: \n",
            "A value is trying to be set on a copy of a slice from a DataFrame\n",
            "\n",
            "See the caveats in the documentation: https://pandas.pydata.org/pandas-docs/stable/user_guide/indexing.html#returning-a-view-versus-a-copy\n",
            "  \n"
          ],
          "name": "stderr"
        }
      ]
    },
    {
      "cell_type": "code",
      "metadata": {
        "id": "C__9DHKdhgzs"
      },
      "source": [
        "def segement_desc(x):\r\n",
        "  if (str(x).find('Meridian, Idaho') > -1):\r\n",
        "    return 1\r\n",
        "  else:\r\n",
        "    return 0"
      ],
      "execution_count": 158,
      "outputs": []
    },
    {
      "cell_type": "code",
      "metadata": {
        "id": "OFHzLCkXipQ4"
      },
      "source": [
        "train['Segment Description'] = train['Segment Description'].apply(lambda x: segement_desc(x))"
      ],
      "execution_count": 159,
      "outputs": []
    },
    {
      "cell_type": "code",
      "metadata": {
        "id": "3h1wtWxFixXN"
      },
      "source": [
        "train = pd.get_dummies(train, columns = ['Segment type','Answer'])"
      ],
      "execution_count": 160,
      "outputs": []
    },
    {
      "cell_type": "code",
      "metadata": {
        "colab": {
          "base_uri": "https://localhost:8080/",
          "height": 266
        },
        "id": "cWHEsFncxFGf",
        "outputId": "378940ed-86be-4855-a23f-e7b543d535d8"
      },
      "source": [
        "train.head()"
      ],
      "execution_count": 161,
      "outputs": [
        {
          "output_type": "execute_result",
          "data": {
            "text/html": [
              "<div>\n",
              "<style scoped>\n",
              "    .dataframe tbody tr th:only-of-type {\n",
              "        vertical-align: middle;\n",
              "    }\n",
              "\n",
              "    .dataframe tbody tr th {\n",
              "        vertical-align: top;\n",
              "    }\n",
              "\n",
              "    .dataframe thead th {\n",
              "        text-align: right;\n",
              "    }\n",
              "</style>\n",
              "<table border=\"1\" class=\"dataframe\">\n",
              "  <thead>\n",
              "    <tr style=\"text-align: right;\">\n",
              "      <th></th>\n",
              "      <th>ID</th>\n",
              "      <th>Segment Description</th>\n",
              "      <th>Count</th>\n",
              "      <th>Percentage</th>\n",
              "      <th>It became a relationship</th>\n",
              "      <th>ID1</th>\n",
              "      <th>ID2</th>\n",
              "      <th>Segment type_gender</th>\n",
              "      <th>Segment type_mobile</th>\n",
              "      <th>Segment type_university</th>\n",
              "      <th>Segment type_web</th>\n",
              "      <th>Answer_I don't use Tinder</th>\n",
              "      <th>Answer_No</th>\n",
              "      <th>Answer_Yes</th>\n",
              "    </tr>\n",
              "  </thead>\n",
              "  <tbody>\n",
              "    <tr>\n",
              "      <th>0</th>\n",
              "      <td>292890.8970</td>\n",
              "      <td>1</td>\n",
              "      <td>0.000000</td>\n",
              "      <td>0.000000</td>\n",
              "      <td>0</td>\n",
              "      <td>0.8970</td>\n",
              "      <td>292890.0</td>\n",
              "      <td>0</td>\n",
              "      <td>0</td>\n",
              "      <td>0</td>\n",
              "      <td>1</td>\n",
              "      <td>0</td>\n",
              "      <td>1</td>\n",
              "      <td>0</td>\n",
              "    </tr>\n",
              "    <tr>\n",
              "      <th>1</th>\n",
              "      <td>292887.9870</td>\n",
              "      <td>1</td>\n",
              "      <td>0.000000</td>\n",
              "      <td>0.000000</td>\n",
              "      <td>0</td>\n",
              "      <td>0.9870</td>\n",
              "      <td>292887.0</td>\n",
              "      <td>0</td>\n",
              "      <td>0</td>\n",
              "      <td>0</td>\n",
              "      <td>1</td>\n",
              "      <td>0</td>\n",
              "      <td>1</td>\n",
              "      <td>0</td>\n",
              "    </tr>\n",
              "    <tr>\n",
              "      <th>2</th>\n",
              "      <td>292894.0656</td>\n",
              "      <td>1</td>\n",
              "      <td>499.173606</td>\n",
              "      <td>0.225255</td>\n",
              "      <td>0</td>\n",
              "      <td>0.0656</td>\n",
              "      <td>292894.0</td>\n",
              "      <td>1</td>\n",
              "      <td>0</td>\n",
              "      <td>0</td>\n",
              "      <td>0</td>\n",
              "      <td>0</td>\n",
              "      <td>1</td>\n",
              "      <td>0</td>\n",
              "    </tr>\n",
              "    <tr>\n",
              "      <th>3</th>\n",
              "      <td>292887.1180</td>\n",
              "      <td>1</td>\n",
              "      <td>0.000000</td>\n",
              "      <td>0.000000</td>\n",
              "      <td>0</td>\n",
              "      <td>0.1180</td>\n",
              "      <td>292887.0</td>\n",
              "      <td>0</td>\n",
              "      <td>0</td>\n",
              "      <td>0</td>\n",
              "      <td>1</td>\n",
              "      <td>0</td>\n",
              "      <td>1</td>\n",
              "      <td>0</td>\n",
              "    </tr>\n",
              "    <tr>\n",
              "      <th>4</th>\n",
              "      <td>292893.6561</td>\n",
              "      <td>1</td>\n",
              "      <td>455.925963</td>\n",
              "      <td>0.211360</td>\n",
              "      <td>0</td>\n",
              "      <td>0.6561</td>\n",
              "      <td>292893.0</td>\n",
              "      <td>1</td>\n",
              "      <td>0</td>\n",
              "      <td>0</td>\n",
              "      <td>0</td>\n",
              "      <td>0</td>\n",
              "      <td>1</td>\n",
              "      <td>0</td>\n",
              "    </tr>\n",
              "  </tbody>\n",
              "</table>\n",
              "</div>"
            ],
            "text/plain": [
              "            ID  Segment Description  ...  Answer_No  Answer_Yes\n",
              "0  292890.8970                    1  ...          1           0\n",
              "1  292887.9870                    1  ...          1           0\n",
              "2  292894.0656                    1  ...          1           0\n",
              "3  292887.1180                    1  ...          1           0\n",
              "4  292893.6561                    1  ...          1           0\n",
              "\n",
              "[5 rows x 14 columns]"
            ]
          },
          "metadata": {
            "tags": []
          },
          "execution_count": 161
        }
      ]
    },
    {
      "cell_type": "code",
      "metadata": {
        "colab": {
          "base_uri": "https://localhost:8080/",
          "height": 702
        },
        "id": "b60gGD5Ej0VV",
        "outputId": "7fea3ff3-b655-40e9-d17e-e2360276377b"
      },
      "source": [
        "plt.figure(figsize=(20,10))\r\n",
        "corr = train.corr()\r\n",
        "sns.heatmap(train.corr(),annot=True)"
      ],
      "execution_count": 162,
      "outputs": [
        {
          "output_type": "execute_result",
          "data": {
            "text/plain": [
              "<matplotlib.axes._subplots.AxesSubplot at 0x7f9697e0b128>"
            ]
          },
          "metadata": {
            "tags": []
          },
          "execution_count": 162
        },
        {
          "output_type": "display_data",
          "data": {
            "image/png": "[encoded data removed]",
            "text/plain": [
              "<Figure size 1440x720 with 2 Axes>"
            ]
          },
          "metadata": {
            "tags": [],
            "needs_background": "light"
          }
        }
      ]
    },
    {
      "cell_type": "code",
      "metadata": {
        "colab": {
          "base_uri": "https://localhost:8080/"
        },
        "id": "Uk_W2OjjkcBf",
        "outputId": "edb3dc77-96f6-44ee-e2ee-1da11b679ede"
      },
      "source": [
        "train.columns"
      ],
      "execution_count": 163,
      "outputs": [
        {
          "output_type": "execute_result",
          "data": {
            "text/plain": [
              "Index(['ID', 'Segment Description', 'Count', 'Percentage',\n",
              "       'It became a relationship', 'ID1', 'ID2', 'Segment type_gender',\n",
              "       'Segment type_mobile', 'Segment type_university', 'Segment type_web',\n",
              "       'Answer_I don't use Tinder', 'Answer_No', 'Answer_Yes'],\n",
              "      dtype='object')"
            ]
          },
          "metadata": {
            "tags": []
          },
          "execution_count": 163
        }
      ]
    },
    {
      "cell_type": "code",
      "metadata": {
        "id": "xPy0n8QCj536"
      },
      "source": [
        "# Drop ID , Segment type_university\r\n",
        "\r\n",
        "col = ['Segment Description', 'Count', 'Percentage', 'ID1', 'ID2', 'Segment type_gender',\r\n",
        "       'Segment type_mobile', 'Segment type_web',\r\n",
        "       'Answer_I don\\'t use Tinder', 'Answer_No', 'Answer_Yes']\r\n",
        "\r\n",
        "x = train[col]\r\n",
        "y = train['It became a relationship']\r\n"
      ],
      "execution_count": 164,
      "outputs": []
    },
    {
      "cell_type": "code",
      "metadata": {
        "colab": {
          "base_uri": "https://localhost:8080/",
          "height": 212
        },
        "id": "E5vIq2VBDgiK",
        "outputId": "a02e86cd-ee5f-4440-e041-2443fd19d90b"
      },
      "source": [
        "x.head()"
      ],
      "execution_count": 165,
      "outputs": [
        {
          "output_type": "execute_result",
          "data": {
            "text/html": [
              "<div>\n",
              "<style scoped>\n",
              "    .dataframe tbody tr th:only-of-type {\n",
              "        vertical-align: middle;\n",
              "    }\n",
              "\n",
              "    .dataframe tbody tr th {\n",
              "        vertical-align: top;\n",
              "    }\n",
              "\n",
              "    .dataframe thead th {\n",
              "        text-align: right;\n",
              "    }\n",
              "</style>\n",
              "<table border=\"1\" class=\"dataframe\">\n",
              "  <thead>\n",
              "    <tr style=\"text-align: right;\">\n",
              "      <th></th>\n",
              "      <th>Segment Description</th>\n",
              "      <th>Count</th>\n",
              "      <th>Percentage</th>\n",
              "      <th>ID1</th>\n",
              "      <th>ID2</th>\n",
              "      <th>Segment type_gender</th>\n",
              "      <th>Segment type_mobile</th>\n",
              "      <th>Segment type_web</th>\n",
              "      <th>Answer_I don't use Tinder</th>\n",
              "      <th>Answer_No</th>\n",
              "      <th>Answer_Yes</th>\n",
              "    </tr>\n",
              "  </thead>\n",
              "  <tbody>\n",
              "    <tr>\n",
              "      <th>0</th>\n",
              "      <td>1</td>\n",
              "      <td>0.000000</td>\n",
              "      <td>0.000000</td>\n",
              "      <td>0.8970</td>\n",
              "      <td>292890.0</td>\n",
              "      <td>0</td>\n",
              "      <td>0</td>\n",
              "      <td>1</td>\n",
              "      <td>0</td>\n",
              "      <td>1</td>\n",
              "      <td>0</td>\n",
              "    </tr>\n",
              "    <tr>\n",
              "      <th>1</th>\n",
              "      <td>1</td>\n",
              "      <td>0.000000</td>\n",
              "      <td>0.000000</td>\n",
              "      <td>0.9870</td>\n",
              "      <td>292887.0</td>\n",
              "      <td>0</td>\n",
              "      <td>0</td>\n",
              "      <td>1</td>\n",
              "      <td>0</td>\n",
              "      <td>1</td>\n",
              "      <td>0</td>\n",
              "    </tr>\n",
              "    <tr>\n",
              "      <th>2</th>\n",
              "      <td>1</td>\n",
              "      <td>499.173606</td>\n",
              "      <td>0.225255</td>\n",
              "      <td>0.0656</td>\n",
              "      <td>292894.0</td>\n",
              "      <td>1</td>\n",
              "      <td>0</td>\n",
              "      <td>0</td>\n",
              "      <td>0</td>\n",
              "      <td>1</td>\n",
              "      <td>0</td>\n",
              "    </tr>\n",
              "    <tr>\n",
              "      <th>3</th>\n",
              "      <td>1</td>\n",
              "      <td>0.000000</td>\n",
              "      <td>0.000000</td>\n",
              "      <td>0.1180</td>\n",
              "      <td>292887.0</td>\n",
              "      <td>0</td>\n",
              "      <td>0</td>\n",
              "      <td>1</td>\n",
              "      <td>0</td>\n",
              "      <td>1</td>\n",
              "      <td>0</td>\n",
              "    </tr>\n",
              "    <tr>\n",
              "      <th>4</th>\n",
              "      <td>1</td>\n",
              "      <td>455.925963</td>\n",
              "      <td>0.211360</td>\n",
              "      <td>0.6561</td>\n",
              "      <td>292893.0</td>\n",
              "      <td>1</td>\n",
              "      <td>0</td>\n",
              "      <td>0</td>\n",
              "      <td>0</td>\n",
              "      <td>1</td>\n",
              "      <td>0</td>\n",
              "    </tr>\n",
              "  </tbody>\n",
              "</table>\n",
              "</div>"
            ],
            "text/plain": [
              "   Segment Description       Count  ...  Answer_No  Answer_Yes\n",
              "0                    1    0.000000  ...          1           0\n",
              "1                    1    0.000000  ...          1           0\n",
              "2                    1  499.173606  ...          1           0\n",
              "3                    1    0.000000  ...          1           0\n",
              "4                    1  455.925963  ...          1           0\n",
              "\n",
              "[5 rows x 11 columns]"
            ]
          },
          "metadata": {
            "tags": []
          },
          "execution_count": 165
        }
      ]
    },
    {
      "cell_type": "code",
      "metadata": {
        "colab": {
          "base_uri": "https://localhost:8080/"
        },
        "id": "wuLZPnQ3kokC",
        "outputId": "19171f03-0aa8-4963-e107-6bb867810476"
      },
      "source": [
        "from sklearn.model_selection import train_test_split\r\n",
        "\r\n",
        "X_train, X_test, y_train, y_test = train_test_split(x.values, y.values, test_size=0.3, random_state=0)\r\n",
        "\r\n",
        "print(\"X_train dataset: \", X_train.shape)\r\n",
        "print(\"y_train dataset: \", y_train.shape)\r\n",
        "print(\"X_test dataset: \", X_test.shape)\r\n",
        "print(\"y_test dataset: \", y_test.shape)"
      ],
      "execution_count": 166,
      "outputs": [
        {
          "output_type": "stream",
          "text": [
            "X_train dataset:  (1325, 11)\n",
            "y_train dataset:  (1325,)\n",
            "X_test dataset:  (569, 11)\n",
            "y_test dataset:  (569,)\n"
          ],
          "name": "stdout"
        }
      ]
    },
    {
      "cell_type": "code",
      "metadata": {
        "colab": {
          "base_uri": "https://localhost:8080/"
        },
        "id": "rqII8_CJF04p",
        "outputId": "68d2c9da-3675-4215-9683-0de79101d0fe"
      },
      "source": [
        "from imblearn.over_sampling import SMOTE\r\n",
        "sm = SMOTE(random_state=2)\r\n",
        "\r\n",
        "X_train_res, y_train_res = sm.fit_sample(X_train, y_train.ravel())"
      ],
      "execution_count": 167,
      "outputs": [
        {
          "output_type": "stream",
          "text": [
            "/usr/local/lib/python3.6/dist-packages/sklearn/utils/deprecation.py:87: FutureWarning: Function safe_indexing is deprecated; safe_indexing is deprecated in version 0.22 and will be removed in version 0.24.\n",
            "  warnings.warn(msg, category=FutureWarning)\n"
          ],
          "name": "stderr"
        }
      ]
    },
    {
      "cell_type": "markdown",
      "metadata": {
        "id": "IHN_aUeN7act"
      },
      "source": [
        "**Xgb Classifier**"
      ]
    },
    {
      "cell_type": "code",
      "metadata": {
        "colab": {
          "base_uri": "https://localhost:8080/"
        },
        "id": "X21d7WXmk0CK",
        "outputId": "ee35fb0a-87da-497f-8f4e-45888fbdacf3"
      },
      "source": [
        "xgb = XGBClassifier()\r\n",
        "xgb.fit(X_train_res,y_train_res)\r\n",
        "\r\n",
        "pred1 = xgb.predict(X_test)\r\n",
        "print(accuracy_score(pred1,y_test))"
      ],
      "execution_count": 168,
      "outputs": [
        {
          "output_type": "stream",
          "text": [
            "0.9525483304042179\n"
          ],
          "name": "stdout"
        }
      ]
    },
    {
      "cell_type": "code",
      "metadata": {
        "colab": {
          "base_uri": "https://localhost:8080/"
        },
        "id": "Fl2kW40p8S0W",
        "outputId": "5ac44ca3-1e0a-4a71-e591-a4649cfef947"
      },
      "source": [
        "print(confusion_matrix(y_test,pred1))"
      ],
      "execution_count": 169,
      "outputs": [
        {
          "output_type": "stream",
          "text": [
            "[[380   8]\n",
            " [ 19 162]]\n"
          ],
          "name": "stdout"
        }
      ]
    },
    {
      "cell_type": "markdown",
      "metadata": {
        "id": "AjZmaN7w7eHK"
      },
      "source": [
        "**Random Forest**"
      ]
    },
    {
      "cell_type": "code",
      "metadata": {
        "colab": {
          "base_uri": "https://localhost:8080/"
        },
        "id": "ttbG_rxPnw36",
        "outputId": "31dfbdca-4b9c-4005-a735-165dfdf51de3"
      },
      "source": [
        "rfc = RandomForestClassifier()\r\n",
        "rfc.fit(X_train_res,y_train_res)\r\n",
        "\r\n",
        "pred2 = rfc.predict(X_test)\r\n",
        "print(accuracy_score(pred2,y_test))"
      ],
      "execution_count": 170,
      "outputs": [
        {
          "output_type": "stream",
          "text": [
            "0.9420035149384886\n"
          ],
          "name": "stdout"
        }
      ]
    },
    {
      "cell_type": "code",
      "metadata": {
        "colab": {
          "base_uri": "https://localhost:8080/"
        },
        "id": "NSALdO8-8yw0",
        "outputId": "0a4c7436-813c-4cf0-a6a7-40256211eea1"
      },
      "source": [
        "print(confusion_matrix(y_test,pred2))"
      ],
      "execution_count": 171,
      "outputs": [
        {
          "output_type": "stream",
          "text": [
            "[[375  13]\n",
            " [ 20 161]]\n"
          ],
          "name": "stdout"
        }
      ]
    },
    {
      "cell_type": "markdown",
      "metadata": {
        "id": "I3u4HYPp7isJ"
      },
      "source": [
        "**LightGBM Classifier**"
      ]
    },
    {
      "cell_type": "code",
      "metadata": {
        "colab": {
          "base_uri": "https://localhost:8080/"
        },
        "id": "unY1TPiHuFay",
        "outputId": "eb761e94-39c2-4e9e-88cf-50455ecbb522"
      },
      "source": [
        "lgb = LGBMClassifier()\r\n",
        "lgb.fit(X_train_res,y_train_res)\r\n",
        "\r\n",
        "pred3 = lgb.predict(X_test)\r\n",
        "print(accuracy_score(pred3,y_test))"
      ],
      "execution_count": 172,
      "outputs": [
        {
          "output_type": "stream",
          "text": [
            "0.9402460456942003\n"
          ],
          "name": "stdout"
        }
      ]
    },
    {
      "cell_type": "code",
      "metadata": {
        "colab": {
          "base_uri": "https://localhost:8080/"
        },
        "id": "Cq14886b88KG",
        "outputId": "c7f4735d-669e-41bd-a58c-0133719add5f"
      },
      "source": [
        "print(confusion_matrix(y_test,pred3))"
      ],
      "execution_count": 173,
      "outputs": [
        {
          "output_type": "stream",
          "text": [
            "[[372  16]\n",
            " [ 18 163]]\n"
          ],
          "name": "stdout"
        }
      ]
    },
    {
      "cell_type": "markdown",
      "metadata": {
        "id": "btFFpbMeCk6E"
      },
      "source": [
        "**Catboost Classifier**"
      ]
    },
    {
      "cell_type": "code",
      "metadata": {
        "id": "LIBvvu_wCpI_"
      },
      "source": [
        "!pip install catboost"
      ],
      "execution_count": null,
      "outputs": []
    },
    {
      "cell_type": "code",
      "metadata": {
        "id": "bTfKmR_4Ch5r",
        "colab": {
          "base_uri": "https://localhost:8080/"
        },
        "outputId": "aa72981d-282e-4d84-9d40-82768dec1880"
      },
      "source": [
        "from catboost import CatBoostClassifier\r\n",
        "\r\n",
        "cbc = CatBoostClassifier(\r\n",
        "    n_estimators=5000,\r\n",
        "    random_state=1994,\r\n",
        "    eval_metric='Accuracy',\r\n",
        "    learning_rate=0.03,\r\n",
        "    max_depth=5 )\r\n",
        "\r\n",
        "cbc.fit( X_train_res, y_train_res, eval_set=[(X_train_res,y_train_res),(X_test, y_test)],\r\n",
        "    early_stopping_rounds=200,\r\n",
        "    verbose=200)\r\n",
        "\r\n",
        "#cbc.fit(X_train_res,y_train_res)\r\n",
        "\r\n",
        "pred4 = cbc.predict(X_test)\r\n",
        "print(accuracy_score(pred4,y_test))"
      ],
      "execution_count": 174,
      "outputs": [
        {
          "output_type": "stream",
          "text": [
            "0:\tlearn: 0.8876338\ttest: 0.8876338\ttest1: 0.9156415\tbest: 0.9156415 (0)\ttotal: 2.46ms\tremaining: 12.3s\n",
            "200:\tlearn: 0.9619501\ttest: 0.9619501\ttest1: 0.9490334\tbest: 0.9490334 (16)\ttotal: 478ms\tremaining: 11.4s\n",
            "400:\tlearn: 0.9756243\ttest: 0.9756243\ttest1: 0.9437610\tbest: 0.9507909 (201)\ttotal: 934ms\tremaining: 10.7s\n",
            "Stopped by overfitting detector  (200 iterations wait)\n",
            "\n",
            "bestTest = 0.9507908612\n",
            "bestIteration = 201\n",
            "\n",
            "Shrink model to first 202 iterations.\n",
            "0.9507908611599297\n"
          ],
          "name": "stdout"
        }
      ]
    },
    {
      "cell_type": "code",
      "metadata": {
        "colab": {
          "base_uri": "https://localhost:8080/"
        },
        "id": "BLbAmJRiC8ad",
        "outputId": "e6c434bb-1098-402c-f94a-c6f06f2871aa"
      },
      "source": [
        "print(confusion_matrix(y_test,pred4))"
      ],
      "execution_count": 175,
      "outputs": [
        {
          "output_type": "stream",
          "text": [
            "[[381   7]\n",
            " [ 21 160]]\n"
          ],
          "name": "stdout"
        }
      ]
    },
    {
      "cell_type": "markdown",
      "metadata": {
        "id": "4L5YkIhooWgm"
      },
      "source": [
        "**Testing**"
      ]
    },
    {
      "cell_type": "code",
      "metadata": {
        "colab": {
          "base_uri": "https://localhost:8080/",
          "height": 195
        },
        "id": "szgLLcWFoV4x",
        "outputId": "ca7e31ac-b75f-41c6-ceec-4c9d91fbad8e"
      },
      "source": [
        "test.head()"
      ],
      "execution_count": 176,
      "outputs": [
        {
          "output_type": "execute_result",
          "data": {
            "text/html": [
              "<div>\n",
              "<style scoped>\n",
              "    .dataframe tbody tr th:only-of-type {\n",
              "        vertical-align: middle;\n",
              "    }\n",
              "\n",
              "    .dataframe tbody tr th {\n",
              "        vertical-align: top;\n",
              "    }\n",
              "\n",
              "    .dataframe thead th {\n",
              "        text-align: right;\n",
              "    }\n",
              "</style>\n",
              "<table border=\"1\" class=\"dataframe\">\n",
              "  <thead>\n",
              "    <tr style=\"text-align: right;\">\n",
              "      <th></th>\n",
              "      <th>ID</th>\n",
              "      <th>Segment type</th>\n",
              "      <th>Segment Description</th>\n",
              "      <th>Answer</th>\n",
              "      <th>Count</th>\n",
              "      <th>Percentage</th>\n",
              "    </tr>\n",
              "  </thead>\n",
              "  <tbody>\n",
              "    <tr>\n",
              "      <th>0</th>\n",
              "      <td>292974.2311</td>\n",
              "      <td>university</td>\n",
              "      <td>University of California, Davis</td>\n",
              "      <td>Yes</td>\n",
              "      <td>0.230742</td>\n",
              "      <td>0.115371</td>\n",
              "    </tr>\n",
              "    <tr>\n",
              "      <th>1</th>\n",
              "      <td>292889.7996</td>\n",
              "      <td>web</td>\n",
              "      <td>Meridian, Idaho</td>\n",
              "      <td>No</td>\n",
              "      <td>0.000000</td>\n",
              "      <td>0.000000</td>\n",
              "    </tr>\n",
              "    <tr>\n",
              "      <th>2</th>\n",
              "      <td>293724.0350</td>\n",
              "      <td>university</td>\n",
              "      <td>Westport, CT</td>\n",
              "      <td>Yes</td>\n",
              "      <td>0.000000</td>\n",
              "      <td>0.000000</td>\n",
              "    </tr>\n",
              "    <tr>\n",
              "      <th>3</th>\n",
              "      <td>292884.0724</td>\n",
              "      <td>mobile</td>\n",
              "      <td>Meridian, Idaho</td>\n",
              "      <td>No</td>\n",
              "      <td>1497.699982</td>\n",
              "      <td>0.388752</td>\n",
              "    </tr>\n",
              "    <tr>\n",
              "      <th>4</th>\n",
              "      <td>292882.0964</td>\n",
              "      <td>mobile</td>\n",
              "      <td>Meridian, Idaho</td>\n",
              "      <td>No</td>\n",
              "      <td>1439.464988</td>\n",
              "      <td>0.373646</td>\n",
              "    </tr>\n",
              "  </tbody>\n",
              "</table>\n",
              "</div>"
            ],
            "text/plain": [
              "            ID Segment type  ...        Count Percentage\n",
              "0  292974.2311   university  ...     0.230742   0.115371\n",
              "1  292889.7996          web  ...     0.000000   0.000000\n",
              "2  293724.0350   university  ...     0.000000   0.000000\n",
              "3  292884.0724       mobile  ...  1497.699982   0.388752\n",
              "4  292882.0964       mobile  ...  1439.464988   0.373646\n",
              "\n",
              "[5 rows x 6 columns]"
            ]
          },
          "metadata": {
            "tags": []
          },
          "execution_count": 176
        }
      ]
    },
    {
      "cell_type": "code",
      "metadata": {
        "colab": {
          "base_uri": "https://localhost:8080/"
        },
        "id": "eRW8r8XX31dB",
        "outputId": "02d49941-c23c-4376-d868-b4134a329bac"
      },
      "source": [
        "test['ID1'] = 0.0\r\n",
        "test['ID2'] = 0.0\r\n",
        "\r\n",
        "j = 0\r\n",
        "for i in test['ID']:\r\n",
        "  test['ID1'][j],test['ID2'][j] = math.modf(i)\r\n",
        "  j = j+1"
      ],
      "execution_count": 177,
      "outputs": [
        {
          "output_type": "stream",
          "text": [
            "/usr/local/lib/python3.6/dist-packages/ipykernel_launcher.py:6: SettingWithCopyWarning: \n",
            "A value is trying to be set on a copy of a slice from a DataFrame\n",
            "\n",
            "See the caveats in the documentation: https://pandas.pydata.org/pandas-docs/stable/user_guide/indexing.html#returning-a-view-versus-a-copy\n",
            "  \n"
          ],
          "name": "stderr"
        }
      ]
    },
    {
      "cell_type": "code",
      "metadata": {
        "id": "Ad_U75tuJLIf"
      },
      "source": [
        "test = pd.get_dummies(test, columns = ['Segment type','Answer'])"
      ],
      "execution_count": 178,
      "outputs": []
    },
    {
      "cell_type": "code",
      "metadata": {
        "id": "AZOkLi3x7sn0"
      },
      "source": [
        "del test['ID']"
      ],
      "execution_count": 179,
      "outputs": []
    },
    {
      "cell_type": "code",
      "metadata": {
        "id": "FdHzrtRZHCAP"
      },
      "source": [
        "del test['Segment type_university']"
      ],
      "execution_count": 180,
      "outputs": []
    },
    {
      "cell_type": "code",
      "metadata": {
        "id": "OWneGjSAouKF"
      },
      "source": [
        "test['Segment Description'] = test['Segment Description'].apply(lambda x: segement_desc(x))"
      ],
      "execution_count": 181,
      "outputs": []
    },
    {
      "cell_type": "code",
      "metadata": {
        "id": "CZJw4ryTo2Mk"
      },
      "source": [
        "pred = xgb.predict(test.values)\r\n",
        "target = pd.DataFrame()\r\n",
        "target['prediction'] = pred\r\n",
        "target.to_csv(\"xgb.csv\", index=False)"
      ],
      "execution_count": 182,
      "outputs": []
    },
    {
      "cell_type": "markdown",
      "metadata": {
        "id": "_iWXIcA19t42"
      },
      "source": [
        "**Stacking Classifier**"
      ]
    },
    {
      "cell_type": "code",
      "metadata": {
        "id": "kSOljX4j9xc8"
      },
      "source": [
        "from sklearn.ensemble import StackingClassifier\r\n",
        "estimator=[(\"rfc\",rfc),(\"xgb\",xgb), (\"cbc\",cbc)]\r\n",
        "clf = StackingClassifier(estimators=estimator)\r\n",
        "\r\n",
        "clf.fit(X_train_res,y_train_res)"
      ],
      "execution_count": null,
      "outputs": []
    },
    {
      "cell_type": "code",
      "metadata": {
        "colab": {
          "base_uri": "https://localhost:8080/"
        },
        "id": "lvmMrd4l-GWo",
        "outputId": "ebdf9cfb-69a8-4dba-f014-8229e3c34d7b"
      },
      "source": [
        "predf = clf.predict(X_test)\r\n",
        "print(accuracy_score(predf,y_test))"
      ],
      "execution_count": 184,
      "outputs": [
        {
          "output_type": "stream",
          "text": [
            "0.9402460456942003\n"
          ],
          "name": "stdout"
        }
      ]
    },
    {
      "cell_type": "code",
      "metadata": {
        "id": "VxAad1X2-Tir"
      },
      "source": [
        "predf = clf.predict(test.values)"
      ],
      "execution_count": 185,
      "outputs": []
    },
    {
      "cell_type": "code",
      "metadata": {
        "id": "oIL43ptppWaD"
      },
      "source": [
        "target = pd.DataFrame()\r\n",
        "target['prediction'] = predf\r\n",
        "target.to_csv(\"stack1.csv\", index=False)"
      ],
      "execution_count": 186,
      "outputs": []
    },
    {
      "cell_type": "markdown",
      "metadata": {
        "id": "Hw3OnLnuNZYe"
      },
      "source": [
        "**Extra things**"
      ]
    },
    {
      "cell_type": "code",
      "metadata": {
        "id": "a8TOXklGpiXX"
      },
      "source": [
        "train1 = pd.read_csv(\"https://raw.githubusercontent.com/dphi-official/Datasets/master/Tinder_Millennial_Match/train_set_label.csv\")\r\n",
        "test1 = pd.read_csv('https://raw.githubusercontent.com/dphi-official/Datasets/master/Tinder_Millennial_Match/test_set_label.csv')"
      ],
      "execution_count": 187,
      "outputs": []
    },
    {
      "cell_type": "code",
      "metadata": {
        "id": "QfQ8_pLWu7UU"
      },
      "source": [
        "train1 = train1.drop_duplicates()\r\n",
        "train1.reset_index(drop=True,inplace=True)"
      ],
      "execution_count": 189,
      "outputs": []
    },
    {
      "cell_type": "code",
      "metadata": {
        "id": "NVurxYGru-2N",
        "colab": {
          "base_uri": "https://localhost:8080/"
        },
        "outputId": "20ea04a0-5e61-4364-8f0a-d2d0e0ad4638"
      },
      "source": [
        "train1['ID1'] = 0.0\r\n",
        "train1['ID2'] = 0.0\r\n",
        "\r\n",
        "j = 0\r\n",
        "for i in train1['ID']:\r\n",
        "  train1['ID1'][j],train1['ID2'][j] = math.modf(i)\r\n",
        "  j = j+1"
      ],
      "execution_count": 191,
      "outputs": [
        {
          "output_type": "stream",
          "text": [
            "/usr/local/lib/python3.6/dist-packages/ipykernel_launcher.py:6: SettingWithCopyWarning: \n",
            "A value is trying to be set on a copy of a slice from a DataFrame\n",
            "\n",
            "See the caveats in the documentation: https://pandas.pydata.org/pandas-docs/stable/user_guide/indexing.html#returning-a-view-versus-a-copy\n",
            "  \n"
          ],
          "name": "stderr"
        }
      ]
    },
    {
      "cell_type": "code",
      "metadata": {
        "colab": {
          "base_uri": "https://localhost:8080/"
        },
        "id": "HgAlAmAwPDq5",
        "outputId": "346da47e-57f8-47e8-8156-61d7b9e9f4f3"
      },
      "source": [
        "test1['ID1'] = 0.0\r\n",
        "test1['ID2'] = 0.0\r\n",
        "\r\n",
        "j = 0\r\n",
        "for i in test1['ID']:\r\n",
        "  test1['ID1'][j],test1['ID2'][j] = math.modf(i)\r\n",
        "  j = j+1"
      ],
      "execution_count": 201,
      "outputs": [
        {
          "output_type": "stream",
          "text": [
            "/usr/local/lib/python3.6/dist-packages/ipykernel_launcher.py:6: SettingWithCopyWarning: \n",
            "A value is trying to be set on a copy of a slice from a DataFrame\n",
            "\n",
            "See the caveats in the documentation: https://pandas.pydata.org/pandas-docs/stable/user_guide/indexing.html#returning-a-view-versus-a-copy\n",
            "  \n"
          ],
          "name": "stderr"
        }
      ]
    },
    {
      "cell_type": "code",
      "metadata": {
        "colab": {
          "base_uri": "https://localhost:8080/",
          "height": 195
        },
        "id": "u2YMC4GgNy73",
        "outputId": "47b74372-fbe0-4a89-d473-d95a6254c8b0"
      },
      "source": [
        "train1.head()"
      ],
      "execution_count": 210,
      "outputs": [
        {
          "output_type": "execute_result",
          "data": {
            "text/html": [
              "<div>\n",
              "<style scoped>\n",
              "    .dataframe tbody tr th:only-of-type {\n",
              "        vertical-align: middle;\n",
              "    }\n",
              "\n",
              "    .dataframe tbody tr th {\n",
              "        vertical-align: top;\n",
              "    }\n",
              "\n",
              "    .dataframe thead th {\n",
              "        text-align: right;\n",
              "    }\n",
              "</style>\n",
              "<table border=\"1\" class=\"dataframe\">\n",
              "  <thead>\n",
              "    <tr style=\"text-align: right;\">\n",
              "      <th></th>\n",
              "      <th>ID</th>\n",
              "      <th>Segment type</th>\n",
              "      <th>Segment Description</th>\n",
              "      <th>Answer</th>\n",
              "      <th>Count</th>\n",
              "      <th>Percentage</th>\n",
              "      <th>It became a relationship</th>\n",
              "      <th>ID1</th>\n",
              "      <th>ID2</th>\n",
              "    </tr>\n",
              "  </thead>\n",
              "  <tbody>\n",
              "    <tr>\n",
              "      <th>0</th>\n",
              "      <td>292890.8970</td>\n",
              "      <td>web</td>\n",
              "      <td>Meridian, Idaho</td>\n",
              "      <td>No</td>\n",
              "      <td>0.000000</td>\n",
              "      <td>0.000000</td>\n",
              "      <td>0</td>\n",
              "      <td>0.8970</td>\n",
              "      <td>292890.0</td>\n",
              "    </tr>\n",
              "    <tr>\n",
              "      <th>1</th>\n",
              "      <td>292887.9870</td>\n",
              "      <td>web</td>\n",
              "      <td>Meridian, Idaho</td>\n",
              "      <td>No</td>\n",
              "      <td>0.000000</td>\n",
              "      <td>0.000000</td>\n",
              "      <td>0</td>\n",
              "      <td>0.9870</td>\n",
              "      <td>292887.0</td>\n",
              "    </tr>\n",
              "    <tr>\n",
              "      <th>2</th>\n",
              "      <td>292894.0656</td>\n",
              "      <td>gender</td>\n",
              "      <td>Meridian, Idaho</td>\n",
              "      <td>No</td>\n",
              "      <td>499.173606</td>\n",
              "      <td>0.225255</td>\n",
              "      <td>0</td>\n",
              "      <td>0.0656</td>\n",
              "      <td>292894.0</td>\n",
              "    </tr>\n",
              "    <tr>\n",
              "      <th>3</th>\n",
              "      <td>292887.1180</td>\n",
              "      <td>web</td>\n",
              "      <td>Meridian, Idaho</td>\n",
              "      <td>No</td>\n",
              "      <td>0.000000</td>\n",
              "      <td>0.000000</td>\n",
              "      <td>0</td>\n",
              "      <td>0.1180</td>\n",
              "      <td>292887.0</td>\n",
              "    </tr>\n",
              "    <tr>\n",
              "      <th>4</th>\n",
              "      <td>292893.6561</td>\n",
              "      <td>gender</td>\n",
              "      <td>Meridian, Idaho</td>\n",
              "      <td>No</td>\n",
              "      <td>455.925963</td>\n",
              "      <td>0.211360</td>\n",
              "      <td>0</td>\n",
              "      <td>0.6561</td>\n",
              "      <td>292893.0</td>\n",
              "    </tr>\n",
              "  </tbody>\n",
              "</table>\n",
              "</div>"
            ],
            "text/plain": [
              "            ID Segment type  ...     ID1       ID2\n",
              "0  292890.8970          web  ...  0.8970  292890.0\n",
              "1  292887.9870          web  ...  0.9870  292887.0\n",
              "2  292894.0656       gender  ...  0.0656  292894.0\n",
              "3  292887.1180          web  ...  0.1180  292887.0\n",
              "4  292893.6561       gender  ...  0.6561  292893.0\n",
              "\n",
              "[5 rows x 9 columns]"
            ]
          },
          "metadata": {
            "tags": []
          },
          "execution_count": 210
        }
      ]
    },
    {
      "cell_type": "code",
      "metadata": {
        "colab": {
          "base_uri": "https://localhost:8080/"
        },
        "id": "I6fGKaoIN9Bm",
        "outputId": "c1eb4aa8-4316-4d91-a253-99268f30e236"
      },
      "source": [
        "train1.columns"
      ],
      "execution_count": 193,
      "outputs": [
        {
          "output_type": "execute_result",
          "data": {
            "text/plain": [
              "Index(['ID', 'Segment type', 'Segment Description', 'Answer', 'Count',\n",
              "       'Percentage', 'It became a relationship', 'ID1', 'ID2'],\n",
              "      dtype='object')"
            ]
          },
          "metadata": {
            "tags": []
          },
          "execution_count": 193
        }
      ]
    },
    {
      "cell_type": "code",
      "metadata": {
        "id": "7gA6wY9-N-6Q"
      },
      "source": [
        "col = ['Segment type', 'Segment Description', 'Answer', 'Count',\r\n",
        "       'Percentage', 'ID1', 'ID2']\r\n",
        "\r\n",
        "x1 = train1[col]\r\n",
        "y1 = train1['It became a relationship']"
      ],
      "execution_count": 195,
      "outputs": []
    },
    {
      "cell_type": "code",
      "metadata": {
        "id": "REZCswSyPKyz"
      },
      "source": [
        "del test1['ID']"
      ],
      "execution_count": 202,
      "outputs": []
    },
    {
      "cell_type": "code",
      "metadata": {
        "id": "sxK0ytZ4N2D3"
      },
      "source": [
        "from sklearn.model_selection import train_test_split\r\n",
        "X_train1,X_test1,y_train1,y_test1=train_test_split(x1,y1,test_size=0.2,random_state=42)"
      ],
      "execution_count": 206,
      "outputs": []
    },
    {
      "cell_type": "code",
      "metadata": {
        "colab": {
          "base_uri": "https://localhost:8080/"
        },
        "id": "eRoQ8G5-OMml",
        "outputId": "07ed2e81-4575-49e8-d71d-df9079a4ebb2"
      },
      "source": [
        "from sklearn.metrics import accuracy_score\r\n",
        "from catboost import CatBoostClassifier\r\n",
        "\r\n",
        "m = CatBoostClassifier(n_estimators=5000,random_state=1994,eval_metric='Accuracy',learning_rate=0.03,max_depth=5,cat_features=[0,1,2])\r\n",
        "m.fit(X_train1, y_train1,eval_set=[(X_train1,y_train1),(X_test1, y_test1)],early_stopping_rounds=200,verbose=200)\r\n",
        "\r\n",
        "print(accuracy_score(m.predict(X_test1),y_test1))"
      ],
      "execution_count": 197,
      "outputs": [
        {
          "output_type": "stream",
          "text": [
            "0:\tlearn: 0.8990099\ttest: 0.8983498\ttest1: 0.9129288\tbest: 0.9129288 (0)\ttotal: 8.26ms\tremaining: 41.3s\n",
            "200:\tlearn: 0.9663366\ttest: 0.9768977\ttest1: 0.9472296\tbest: 0.9630607 (94)\ttotal: 812ms\tremaining: 19.4s\n",
            "Stopped by overfitting detector  (200 iterations wait)\n",
            "\n",
            "bestTest = 0.963060686\n",
            "bestIteration = 94\n",
            "\n",
            "Shrink model to first 95 iterations.\n",
            "0.9630606860158312\n"
          ],
          "name": "stdout"
        }
      ]
    },
    {
      "cell_type": "code",
      "metadata": {
        "colab": {
          "base_uri": "https://localhost:8080/"
        },
        "id": "yKh1Ns1BOiOB",
        "outputId": "1a6f6209-3278-473f-8c5f-434cc46b910a"
      },
      "source": [
        "errCB = []\r\n",
        "y_pred_tot_cb = []\r\n",
        "from sklearn.model_selection import StratifiedKFold\r\n",
        "\r\n",
        "fold = StratifiedKFold(n_splits=5)\r\n",
        "i = 1\r\n",
        "\r\n",
        "for train_index, test_index in fold.split(x1,y1):\r\n",
        "  x_train, x_val = x1.iloc[train_index], x1.iloc[test_index]\r\n",
        "  y_train, y_val = y1[train_index], y1[test_index]\r\n",
        "  m = CatBoostClassifier(n_estimators=5000,random_state=1994,eval_metric='Accuracy',learning_rate=0.03,max_depth=5,cat_features=[0,1,2])\r\n",
        "  m.fit(x_train, y_train,eval_set=[(x_train,y_train),(x_val, y_val)],early_stopping_rounds=200,verbose=200)\r\n",
        "  pred_y = m.predict(x_val)\r\n",
        "  print(\"err_cb: \",accuracy_score(pred_y,y_val))\r\n",
        "  errCB.append(accuracy_score(pred_y,y_val))\r\n",
        "  pred_test = m.predict(test1)\r\n",
        "  i = i + 1\r\n",
        "  y_pred_tot_cb.append(pred_test)"
      ],
      "execution_count": 203,
      "outputs": [
        {
          "output_type": "stream",
          "text": [
            "0:\tlearn: 0.8904290\ttest: 0.8970297\ttest1: 0.8839050\tbest: 0.8839050 (0)\ttotal: 6.09ms\tremaining: 30.4s\n",
            "200:\tlearn: 0.9636964\ttest: 0.9947195\ttest1: 0.9525066\tbest: 0.9525066 (140)\ttotal: 906ms\tremaining: 21.6s\n",
            "Stopped by overfitting detector  (200 iterations wait)\n",
            "\n",
            "bestTest = 0.9525065963\n",
            "bestIteration = 140\n",
            "\n",
            "Shrink model to first 141 iterations.\n",
            "err_cb:  0.9525065963060686\n",
            "0:\tlearn: 0.8924092\ttest: 0.8983498\ttest1: 0.8891821\tbest: 0.8891821 (0)\ttotal: 5ms\tremaining: 25s\n",
            "200:\tlearn: 0.9590759\ttest: 0.9966997\ttest1: 0.9525066\tbest: 0.9525066 (139)\ttotal: 857ms\tremaining: 20.5s\n",
            "400:\tlearn: 0.9669967\ttest: 0.9960396\ttest1: 0.9630607\tbest: 0.9630607 (277)\ttotal: 1.7s\tremaining: 19.5s\n",
            "Stopped by overfitting detector  (200 iterations wait)\n",
            "\n",
            "bestTest = 0.963060686\n",
            "bestIteration = 277\n",
            "\n",
            "Shrink model to first 278 iterations.\n",
            "err_cb:  0.9630606860158312\n",
            "0:\tlearn: 0.8930693\ttest: 0.8996700\ttest1: 0.8891821\tbest: 0.8891821 (0)\ttotal: 4.79ms\tremaining: 23.9s\n",
            "200:\tlearn: 0.9603960\ttest: 0.9927393\ttest1: 0.9604222\tbest: 0.9604222 (172)\ttotal: 878ms\tremaining: 21s\n",
            "Stopped by overfitting detector  (200 iterations wait)\n",
            "\n",
            "bestTest = 0.9604221636\n",
            "bestIteration = 172\n",
            "\n",
            "Shrink model to first 173 iterations.\n",
            "err_cb:  0.9604221635883905\n",
            "0:\tlearn: 0.8917492\ttest: 0.8950495\ttest1: 0.9023747\tbest: 0.9023747 (0)\ttotal: 4.95ms\tremaining: 24.8s\n",
            "200:\tlearn: 0.9610561\ttest: 0.9940594\ttest1: 0.9683377\tbest: 0.9683377 (122)\ttotal: 907ms\tremaining: 21.6s\n",
            "400:\tlearn: 0.9722772\ttest: 0.9953795\ttest1: 0.9709763\tbest: 0.9709763 (220)\ttotal: 1.77s\tremaining: 20.3s\n",
            "Stopped by overfitting detector  (200 iterations wait)\n",
            "\n",
            "bestTest = 0.9709762533\n",
            "bestIteration = 220\n",
            "\n",
            "Shrink model to first 221 iterations.\n",
            "err_cb:  0.9709762532981531\n",
            "0:\tlearn: 0.8898417\ttest: 0.8944591\ttest1: 0.9126984\tbest: 0.9126984 (0)\ttotal: 5.08ms\tremaining: 25.4s\n",
            "200:\tlearn: 0.9696570\ttest: 0.9835092\ttest1: 0.9444444\tbest: 0.9656085 (49)\ttotal: 867ms\tremaining: 20.7s\n",
            "Stopped by overfitting detector  (200 iterations wait)\n",
            "\n",
            "bestTest = 0.9656084656\n",
            "bestIteration = 49\n",
            "\n",
            "Shrink model to first 50 iterations.\n",
            "err_cb:  0.9656084656084656\n"
          ],
          "name": "stdout"
        }
      ]
    },
    {
      "cell_type": "code",
      "metadata": {
        "colab": {
          "base_uri": "https://localhost:8080/"
        },
        "id": "lQhj1ydpO5kS",
        "outputId": "33b0d054-8f23-47d0-f31d-26bf45f70068"
      },
      "source": [
        "np.mean(errCB,0)"
      ],
      "execution_count": 204,
      "outputs": [
        {
          "output_type": "execute_result",
          "data": {
            "text/plain": [
              "0.9625148329633818"
            ]
          },
          "metadata": {
            "tags": []
          },
          "execution_count": 204
        }
      ]
    },
    {
      "cell_type": "code",
      "metadata": {
        "id": "2N7DJ49pPVZv"
      },
      "source": [
        "submission=pd.DataFrame()\r\n",
        "submission['prediction']=np.where(np.mean(y_pred_tot_cb,0)>0.5,1,0)\r\n",
        "submission.to_csv('final.csv',index=False)"
      ],
      "execution_count": 205,
      "outputs": []
    },
    {
      "cell_type": "code",
      "metadata": {
        "id": "gHgZEU8UQZTa"
      },
      "source": [
        ""
      ],
      "execution_count": null,
      "outputs": []
    }
  ]
}